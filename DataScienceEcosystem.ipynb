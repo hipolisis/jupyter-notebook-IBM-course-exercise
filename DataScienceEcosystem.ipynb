{
 "cells": [
  {
   "cell_type": "markdown",
   "metadata": {
    "collapsed": true
   },
   "source": [
    "# Data Science Tools and Ecosystem"
   ]
  },
  {
   "cell_type": "markdown",
   "metadata": {},
   "source": [
    "In this notebook, Data Science Tools and Ecosystem are summarized."
   ]
  },
  {
   "cell_type": "markdown",
   "metadata": {},
   "source": [
    "Some of the popular languages that Data Scientists use are:\n",
    "1. **Python**: Python is one of the most popular languages for data science due to its simplicity, readability, and a vast number of libraries and tools available for scientific computing and data analysis. It is commonly used for tasks such as data cleaning and preparation, statistical analysis, machine learning, and visualization.\n",
    "2. **R**: R is another popular language for data science that is widely used for statistical computing and graphics. It is especially useful for tasks such as data cleaning and preparation, exploratory data analysis, and visualization.\n",
    "3. **SQL**: SQL is a language used for managing and querying relational databases. It is often used for tasks such as data extraction, transformation, and loading (ETL), as well as querying large databases for data analysis."
   ]
  },
  {
   "cell_type": "markdown",
   "metadata": {},
   "source": [
    "There are several commonly used libraries in the field of data science, including:\n",
    "1. **NumPy**: NumPy is a library for working with arrays of data. It provides tools for performing mathematical operations on arrays, including linear algebra and statistical functions.\n",
    "2. **Pandas**: Pandas is a library for working with data frames, which are tables of data with rows and columns. It provides tools for manipulating and analyzing data, including merging and grouping data, handling missing values, and performing calculations.\n",
    "3. **Matplotlib**: Matplotlib is a library for creating visualizations in Python. It provides tools for creating a variety of plots, including line graphs, scatter plots, and histograms."
   ]
  },
  {
   "cell_type": "markdown",
   "metadata": {},
   "source": [
    "| Data Science Tools |\n",
    "|:-------------------| \n",
    "| Jupyter Notebook   |\n",
    "| Spyder             |\n",
    "| RStudio            |"
   ]
  },
  {
   "cell_type": "markdown",
   "metadata": {},
   "source": [
    "### Below are a few examples of evaluating arithmetic expressions in Python"
   ]
  },
  {
   "cell_type": "code",
   "execution_count": 1,
   "metadata": {},
   "outputs": [
    {
     "name": "stdout",
     "output_type": "stream",
     "text": [
      "17\n"
     ]
    }
   ],
   "source": [
    "# This is a simple arithmetic expression to multiply then add integers\n",
    "result = (3 * 4) + 5\n",
    "print(result)"
   ]
  },
  {
   "cell_type": "code",
   "execution_count": 2,
   "metadata": {},
   "outputs": [
    {
     "name": "stdout",
     "output_type": "stream",
     "text": [
      "3.3333333333333335\n"
     ]
    }
   ],
   "source": [
    "# This will convert 200 minutes to hours by dividing by 60\n",
    "minutes = 200\n",
    "hours = minutes / 60\n",
    "print(hours)"
   ]
  },
  {
   "cell_type": "markdown",
   "metadata": {},
   "source": [
    "**Objectives:**\n",
    "1. List popular languages for Data Science, including Python, R, and SQL\n",
    "2. Explain the importance of version control with Git and GitHub\n",
    "3. Demonstrate how to use Jupyter Notebook for data analysis and visualization\n",
    "4. Introduce popular data analysis libraries for Python, including NumPy, Pandas, and Matplotlib\n",
    "5. Provide an overview of machine learning concepts and techniques, such as classification, regression, and clustering"
   ]
  },
  {
   "cell_type": "markdown",
   "metadata": {},
   "source": [
    "## Author\n",
    "Jihad Akbar"
   ]
  }
 ],
 "metadata": {
  "kernelspec": {
   "display_name": "Python 3.10",
   "language": "python",
   "name": "python3"
  },
  "language_info": {
   "codemirror_mode": {
    "name": "ipython",
    "version": 3
   },
   "file_extension": ".py",
   "mimetype": "text/x-python",
   "name": "python",
   "nbconvert_exporter": "python",
   "pygments_lexer": "ipython3",
   "version": "3.10.6"
  }
 },
 "nbformat": 4,
 "nbformat_minor": 1
}
