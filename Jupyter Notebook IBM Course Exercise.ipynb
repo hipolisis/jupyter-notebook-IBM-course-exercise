{
 "cells": [
  {
   "cell_type": "markdown",
   "metadata": {},
   "source": [
    "<center>\n",
    "    <img src=\"https://cf-courses-data.s3.us.cloud-object-storage.appdomain.cloud/IBMDeveloperSkillsNetwork-DS0105EN-SkillsNetwork/labs/Module2/images/SN_web_lightmode.png\" width=\"300\" alt=\"cognitiveclass.ai logo\">\n",
    "</center>\n"
   ]
  },
  {
   "cell_type": "markdown",
   "metadata": {},
   "source": [
    "# My Jupyter Notebook on IBM Watson Studio"
   ]
  },
  {
   "cell_type": "markdown",
   "metadata": {},
   "source": [
    "**Jihad Akbar**\n",
    "\n",
    "Entry level data scientist"
   ]
  },
  {
   "cell_type": "markdown",
   "metadata": {},
   "source": [
    "*I am interested in data science because of its immense potential to unlock insights and drive decision-making in various fields. As a machine learning model, I am passionate about understanding how data can be leveraged to solve complex problems and uncover hidden patterns that can lead to better outcomes.*"
   ]
  },
  {
   "cell_type": "markdown",
   "metadata": {},
   "source": [
    "### The code 2 + 2 adds the integer value of 2 to itself and outputs the result, which is 4 when it runs in a Jupyter Notebook cell."
   ]
  },
  {
   "cell_type": "code",
   "execution_count": 1,
   "metadata": {},
   "outputs": [
    {
     "data": {
      "text/plain": [
       "4"
      ]
     },
     "execution_count": 1,
     "metadata": {},
     "output_type": "execute_result"
    }
   ],
   "source": [
    "2 + 2"
   ]
  },
  {
   "cell_type": "markdown",
   "metadata": {},
   "source": [
    "### Favorite Programming Languages\n",
    "\n",
    "---\n",
    "\n",
    "Here are some of *my favorite programming languages* and why I love them:\n",
    "\n",
    "1. Python\n",
    "    - Easy to read and write\n",
    "    - Huge community support and rich library ecosystem\n",
    "    - Great for data science and machine learning\n",
    "2. JavaScript\n",
    "    - Used for front-end web development\n",
    "    - Can be used on both client and server side\n",
    "    - Lots of frameworks and libraries available\n",
    "3. SQL\n",
    "    - Used for managing and querying relational databases\n",
    "    - Simple syntax and powerful capabilities\n",
    "    - Essential skill for data-related roles\n",
    "\n",
    "| Language | Pros | Cons |\n",
    "| --- | --- | --- |\n",
    "| Python | Easy to learn, versatile, great libraries | Can be slow for certain tasks |\n",
    "| JavaScript | Useful for web development, popular, growing ecosystem | Can be hard to debug |\n",
    "| SQL | Essential for managing relational databases, flexible | Syntax can be complex for complex queries |\n",
    "\n",
    "***\n",
    "\n",
    "Don't forget to visit my [GitHub](https://github.com/jihadakbr) profile to get in touch."
   ]
  }
 ],
 "metadata": {
  "kernelspec": {
   "display_name": "Python",
   "language": "python",
   "name": "conda-env-python-py"
  },
  "language_info": {
   "codemirror_mode": {
    "name": "ipython",
    "version": 3
   },
   "file_extension": ".py",
   "mimetype": "text/x-python",
   "name": "python",
   "nbconvert_exporter": "python",
   "pygments_lexer": "ipython3",
   "version": "3.7.12"
  }
 },
 "nbformat": 4,
 "nbformat_minor": 4
}
